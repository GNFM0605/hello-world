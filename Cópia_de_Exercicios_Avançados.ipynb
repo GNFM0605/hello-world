{
  "cells": [
    {
      "cell_type": "markdown",
      "metadata": {
        "id": "view-in-github",
        "colab_type": "text"
      },
      "source": [
        "<a href=\"https://colab.research.google.com/github/GNFM0605/hello-world/blob/main/C%C3%B3pia_de_Exercicios_Avan%C3%A7ados.ipynb\" target=\"_parent\"><img src=\"https://colab.research.google.com/assets/colab-badge.svg\" alt=\"Open In Colab\"/></a>"
      ]
    },
    {
      "cell_type": "code",
      "execution_count": null,
      "metadata": {
        "colab": {
          "base_uri": "https://localhost:8080/"
        },
        "id": "kuwjR7E5MJB5",
        "outputId": "7702b3ae-2a80-4a22-8dc6-a7c54eaec934"
      },
      "outputs": [
        {
          "name": "stdout",
          "output_type": "stream",
          "text": [
            "Coloque o seu nome completo: BLA BLA\n",
            "Primeiro nome: BLA\n",
            "Último nome: BLA\n"
          ]
        }
      ],
      "source": [
        "# Recebendo o nome completo do usuário\n",
        "nome_completo = input(\"Coloque o seu nome completo: \")\n",
        "\n",
        "# Separando o nome completo em partes usando o espaço como delimitador\n",
        "partes_nome = nome_completo.split()\n",
        "\n",
        "# Obtendo o primeiro e o último nome\n",
        "primeiro_nome = partes_nome[0]\n",
        "ultimo_nome = partes_nome[-1]\n",
        "\n",
        "# Apresentando o primeiro e o último nome\n",
        "print(\"Primeiro nome:\", primeiro_nome)\n",
        "print(\"Último nome:\", ultimo_nome)"
      ]
    },
    {
      "cell_type": "code",
      "execution_count": null,
      "metadata": {
        "colab": {
          "base_uri": "https://localhost:8080/"
        },
        "id": "GayZH0QlXe-v",
        "outputId": "ac45d49f-b439-4192-f195-73b1845be817"
      },
      "outputs": [
        {
          "name": "stdout",
          "output_type": "stream",
          "text": [
            "insira um número inteiro: 1980\n",
            "O número 1980 é par.\n"
          ]
        }
      ],
      "source": [
        "# O número do usuário\n",
        "numero = int(input(\"insira um número inteiro: \"))\n",
        "\n",
        "# Verifica se o número é par ou ímpar\n",
        "if numero % 2 == 0:\n",
        "    print(\"O número\", numero, \"é par.\")\n",
        "else:\n",
        "    print(\"O número\", numero, \"é ímpar.\")"
      ]
    },
    {
      "cell_type": "code",
      "execution_count": null,
      "metadata": {
        "id": "Xz2a1amXXpRL"
      },
      "outputs": [],
      "source": [
        "# Função para adição\n",
        "def adicao(x, y):\n",
        "    return x + y\n",
        "\n",
        "# Função para subtração\n",
        "def subtracao(x, y):\n",
        "    return x - y\n",
        "\n",
        "# Função para multiplicação\n",
        "def multiplicacao(x, y):\n",
        "    return x * y\n",
        "\n",
        "# Função para divisão\n",
        "def divisao(x, y):\n",
        "    if y == 0:\n",
        "        return \"Erro: divisão por zero!\"\n",
        "    else:\n",
        "        return x / y\n",
        "\n",
        "# Solicitar operação ao usuário\n",
        "print(\"Escolha a operação:\")\n",
        "print(\"1. Adição\")\n",
        "print(\"2. Subtração\")\n",
        "print(\"3. Multiplicação\")\n",
        "print(\"4. Divisão\")\n",
        "\n",
        "# Receber a escolha do usuário\n",
        "opcao = input(\"Insira o número da operação desejada (1/2/3/4): \")\n",
        "\n",
        "# Receber os dois valores do usuário\n",
        "num1 = float(input(\"Insira o primeiro número: \"))\n",
        "num2 = float(input(\"Insira o segundo número: \"))\n",
        "\n",
        "# Realizar a operação escolhida\n",
        "if opcao == '1':\n",
        "    resultado = adicao(num1, num2)\n",
        "    operacao = '+'\n",
        "elif opcao == '2':\n",
        "    resultado = subtracao(num1, num2)\n",
        "    operacao = '-'\n",
        "elif opcao == '3':\n",
        "    resultado = multiplicacao(num1, num2)\n",
        "    operacao = '*'\n",
        "elif opcao == '4':\n",
        "    resultado = divisao(num1, num2)\n",
        "    operacao = '/'\n",
        "else:\n",
        "    print(\"Opção inválida\")\n",
        "    exit()\n",
        "\n",
        "# Apresentar o resultado\n",
        "print(f\"O resultado de {num1} {operacao} {num2} é {resultado}\")"
      ]
    },
    {
      "cell_type": "code",
      "execution_count": null,
      "metadata": {
        "colab": {
          "base_uri": "https://localhost:8080/"
        },
        "id": "Kp1AcqPZYFCu",
        "outputId": "2a7214ee-4ec5-4425-caac-4531953bb367"
      },
      "outputs": [
        {
          "name": "stdout",
          "output_type": "stream",
          "text": [
            "Temperaturas em Fahrenheit:\n",
            "Temperatura 1: 72.50 °F\n",
            "Temperatura 2: 104.00 °F\n",
            "Temperatura 3: 55.40 °F\n",
            "Temperatura 4: 84.20 °F\n",
            "Temperatura 5: 93.20 °F\n"
          ]
        }
      ],
      "source": [
        "# Lista de temperaturas em Celsius\n",
        "temperaturas_celsius = [22.5, 40, 13, 29, 34]\n",
        "\n",
        "# Função lambda para converter Celsius para Fahrenheit\n",
        "celsius_para_fahrenheit = lambda celsius: (9/5) * celsius + 32\n",
        "\n",
        "# Convertendo todas as temperaturas para Fahrenheit\n",
        "temperaturas_fahrenheit = list(map(celsius_para_fahrenheit, temperaturas_celsius))\n",
        "\n",
        "# Apresentando as temperaturas convertidas\n",
        "print(\"Temperaturas em Fahrenheit:\")\n",
        "for i, temp_f in enumerate(temperaturas_fahrenheit, start=1):\n",
        "    print(f\"Temperatura {i}: {temp_f:.2f} °F\")\n"
      ]
    },
    {
      "cell_type": "code",
      "execution_count": null,
      "metadata": {
        "colab": {
          "base_uri": "https://localhost:8080/"
        },
        "id": "dtk-bniDY3G_",
        "outputId": "6e2e21e4-39e4-45e5-9cd2-a16bf8911537"
      },
      "outputs": [
        {
          "name": "stdout",
          "output_type": "stream",
          "text": [
            "A soma dos valores pares é: 58\n",
            "A soma dos valores ímpares é: 36\n"
          ]
        }
      ],
      "source": [
        "# Sequência de números\n",
        "sequencia = [21, 5, 34, 8, 16, 7, 3]\n",
        "\n",
        "# Inicializando as variáveis para armazenar a soma dos valores pares e ímpares\n",
        "soma_pares = 0\n",
        "soma_impares = 0\n",
        "\n",
        "# Percorrendo a sequência\n",
        "for numero in sequencia:\n",
        "    if numero % 2 == 0:\n",
        "        # Se o número for par, adicionamos à soma dos pares\n",
        "        soma_pares += numero\n",
        "    else:\n",
        "        # Se o número for ímpar, adicionamos à soma dos ímpares\n",
        "        soma_impares += numero\n",
        "\n",
        "# Apresentando os resultados\n",
        "print(\"A soma dos valores pares é:\", soma_pares)\n",
        "print(\"A soma dos valores ímpares é:\", soma_impares)"
      ]
    },
    {
      "cell_type": "code",
      "execution_count": null,
      "metadata": {
        "colab": {
          "base_uri": "https://localhost:8080/"
        },
        "id": "r5U6KdNBZHsb",
        "outputId": "781126c4-ae35-4f7a-a019-04c77b4ad882"
      },
      "outputs": [
        {
          "name": "stdout",
          "output_type": "stream",
          "text": [
            "O maior valor na sequência é: 87\n",
            "O menor valor na sequência é: 7\n"
          ]
        }
      ],
      "source": [
        "from functools import reduce\n",
        "\n",
        "# Sequência de números\n",
        "sequencia = [54, 10, 29, 87, 7, 64]\n",
        "\n",
        "# Função para encontrar o maior valor\n",
        "def encontrar_maior(x, y):\n",
        "    return x if x > y else y\n",
        "\n",
        "# Função para encontrar o menor valor\n",
        "def encontrar_menor(x, y):\n",
        "    return x if x < y else y\n",
        "\n",
        "# Encontrando o maior e o menor valores na sequência\n",
        "maior_valor = reduce(encontrar_maior, sequencia)\n",
        "menor_valor = reduce(encontrar_menor, sequencia)\n",
        "\n",
        "# Apresentando os resultados\n",
        "print(\"O maior valor na sequência é:\", maior_valor)\n",
        "print(\"O menor valor na sequência é:\", menor_valor)"
      ]
    },
    {
      "cell_type": "code",
      "execution_count": null,
      "metadata": {
        "colab": {
          "base_uri": "https://localhost:8080/",
          "height": 687
        },
        "id": "3GUq0ZaeZhQc",
        "outputId": "75374d2d-68d5-4aa2-fe73-b1087f02ecb7"
      },
      "outputs": [
        {
          "output_type": "stream",
          "name": "stdout",
          "text": [
            "Bem-vindo ao jogo de Acerte o Número!\n",
            "Tente adivinhar o número secreto de 0 a 10. Você tem 5 tentativas.\n"
          ]
        },
        {
          "output_type": "error",
          "ename": "KeyboardInterrupt",
          "evalue": "Interrupted by user",
          "traceback": [
            "\u001b[0;31m---------------------------------------------------------------------------\u001b[0m",
            "\u001b[0;31mKeyboardInterrupt\u001b[0m                         Traceback (most recent call last)",
            "\u001b[0;32m<ipython-input-1-026a3f51be2c>\u001b[0m in \u001b[0;36m<cell line: 55>\u001b[0;34m()\u001b[0m\n\u001b[1;32m     53\u001b[0m             \u001b[0;32mbreak\u001b[0m\u001b[0;34m\u001b[0m\u001b[0;34m\u001b[0m\u001b[0m\n\u001b[1;32m     54\u001b[0m \u001b[0;34m\u001b[0m\u001b[0m\n\u001b[0;32m---> 55\u001b[0;31m \u001b[0mnovo_jogo\u001b[0m\u001b[0;34m(\u001b[0m\u001b[0;34m)\u001b[0m\u001b[0;34m\u001b[0m\u001b[0;34m\u001b[0m\u001b[0m\n\u001b[0m",
            "\u001b[0;32m<ipython-input-1-026a3f51be2c>\u001b[0m in \u001b[0;36mnovo_jogo\u001b[0;34m()\u001b[0m\n\u001b[1;32m     47\u001b[0m \u001b[0;32mdef\u001b[0m \u001b[0mnovo_jogo\u001b[0m\u001b[0;34m(\u001b[0m\u001b[0;34m)\u001b[0m\u001b[0;34m:\u001b[0m\u001b[0;34m\u001b[0m\u001b[0;34m\u001b[0m\u001b[0m\n\u001b[1;32m     48\u001b[0m     \u001b[0;32mwhile\u001b[0m \u001b[0;32mTrue\u001b[0m\u001b[0;34m:\u001b[0m\u001b[0;34m\u001b[0m\u001b[0;34m\u001b[0m\u001b[0m\n\u001b[0;32m---> 49\u001b[0;31m         \u001b[0mjogo_acerte_o_numero\u001b[0m\u001b[0;34m(\u001b[0m\u001b[0;34m)\u001b[0m\u001b[0;34m\u001b[0m\u001b[0;34m\u001b[0m\u001b[0m\n\u001b[0m\u001b[1;32m     50\u001b[0m         \u001b[0mresposta\u001b[0m \u001b[0;34m=\u001b[0m \u001b[0minput\u001b[0m\u001b[0;34m(\u001b[0m\u001b[0;34m\"Deseja iniciar uma nova partida? (s/n): \"\u001b[0m\u001b[0;34m)\u001b[0m\u001b[0;34m.\u001b[0m\u001b[0mlower\u001b[0m\u001b[0;34m(\u001b[0m\u001b[0;34m)\u001b[0m\u001b[0;34m\u001b[0m\u001b[0;34m\u001b[0m\u001b[0m\n\u001b[1;32m     51\u001b[0m         \u001b[0;32mif\u001b[0m \u001b[0mresposta\u001b[0m \u001b[0;34m!=\u001b[0m \u001b[0;34m's'\u001b[0m\u001b[0;34m:\u001b[0m\u001b[0;34m\u001b[0m\u001b[0;34m\u001b[0m\u001b[0m\n",
            "\u001b[0;32m<ipython-input-1-026a3f51be2c>\u001b[0m in \u001b[0;36mjogo_acerte_o_numero\u001b[0;34m()\u001b[0m\n\u001b[1;32m     16\u001b[0m         \u001b[0;32mwhile\u001b[0m \u001b[0;32mTrue\u001b[0m\u001b[0;34m:\u001b[0m\u001b[0;34m\u001b[0m\u001b[0;34m\u001b[0m\u001b[0m\n\u001b[1;32m     17\u001b[0m             \u001b[0;32mtry\u001b[0m\u001b[0;34m:\u001b[0m\u001b[0;34m\u001b[0m\u001b[0;34m\u001b[0m\u001b[0m\n\u001b[0;32m---> 18\u001b[0;31m                 \u001b[0mpalpite\u001b[0m \u001b[0;34m=\u001b[0m \u001b[0mint\u001b[0m\u001b[0;34m(\u001b[0m\u001b[0minput\u001b[0m\u001b[0;34m(\u001b[0m\u001b[0;34mf\"Tentativa {tentativa}: Digite um número de 0 a 10: \"\u001b[0m\u001b[0;34m)\u001b[0m\u001b[0;34m)\u001b[0m\u001b[0;34m\u001b[0m\u001b[0;34m\u001b[0m\u001b[0m\n\u001b[0m\u001b[1;32m     19\u001b[0m                 \u001b[0;32mif\u001b[0m \u001b[0mpalpite\u001b[0m \u001b[0;34m<\u001b[0m \u001b[0;36m0\u001b[0m \u001b[0;32mor\u001b[0m \u001b[0mpalpite\u001b[0m \u001b[0;34m>\u001b[0m \u001b[0;36m10\u001b[0m\u001b[0;34m:\u001b[0m\u001b[0;34m\u001b[0m\u001b[0;34m\u001b[0m\u001b[0m\n\u001b[1;32m     20\u001b[0m                     \u001b[0;32mraise\u001b[0m \u001b[0mValueError\u001b[0m\u001b[0;34m(\u001b[0m\u001b[0;34m\"Número fora da faixa permitida!\"\u001b[0m\u001b[0;34m)\u001b[0m\u001b[0;34m\u001b[0m\u001b[0;34m\u001b[0m\u001b[0m\n",
            "\u001b[0;32m/usr/local/lib/python3.10/dist-packages/ipykernel/kernelbase.py\u001b[0m in \u001b[0;36mraw_input\u001b[0;34m(self, prompt)\u001b[0m\n\u001b[1;32m    849\u001b[0m                 \u001b[0;34m\"raw_input was called, but this frontend does not support input requests.\"\u001b[0m\u001b[0;34m\u001b[0m\u001b[0;34m\u001b[0m\u001b[0m\n\u001b[1;32m    850\u001b[0m             )\n\u001b[0;32m--> 851\u001b[0;31m         return self._input_request(str(prompt),\n\u001b[0m\u001b[1;32m    852\u001b[0m             \u001b[0mself\u001b[0m\u001b[0;34m.\u001b[0m\u001b[0m_parent_ident\u001b[0m\u001b[0;34m,\u001b[0m\u001b[0;34m\u001b[0m\u001b[0;34m\u001b[0m\u001b[0m\n\u001b[1;32m    853\u001b[0m             \u001b[0mself\u001b[0m\u001b[0;34m.\u001b[0m\u001b[0m_parent_header\u001b[0m\u001b[0;34m,\u001b[0m\u001b[0;34m\u001b[0m\u001b[0;34m\u001b[0m\u001b[0m\n",
            "\u001b[0;32m/usr/local/lib/python3.10/dist-packages/ipykernel/kernelbase.py\u001b[0m in \u001b[0;36m_input_request\u001b[0;34m(self, prompt, ident, parent, password)\u001b[0m\n\u001b[1;32m    893\u001b[0m             \u001b[0;32mexcept\u001b[0m \u001b[0mKeyboardInterrupt\u001b[0m\u001b[0;34m:\u001b[0m\u001b[0;34m\u001b[0m\u001b[0;34m\u001b[0m\u001b[0m\n\u001b[1;32m    894\u001b[0m                 \u001b[0;31m# re-raise KeyboardInterrupt, to truncate traceback\u001b[0m\u001b[0;34m\u001b[0m\u001b[0;34m\u001b[0m\u001b[0m\n\u001b[0;32m--> 895\u001b[0;31m                 \u001b[0;32mraise\u001b[0m \u001b[0mKeyboardInterrupt\u001b[0m\u001b[0;34m(\u001b[0m\u001b[0;34m\"Interrupted by user\"\u001b[0m\u001b[0;34m)\u001b[0m \u001b[0;32mfrom\u001b[0m \u001b[0;32mNone\u001b[0m\u001b[0;34m\u001b[0m\u001b[0;34m\u001b[0m\u001b[0m\n\u001b[0m\u001b[1;32m    896\u001b[0m             \u001b[0;32mexcept\u001b[0m \u001b[0mException\u001b[0m \u001b[0;32mas\u001b[0m \u001b[0me\u001b[0m\u001b[0;34m:\u001b[0m\u001b[0;34m\u001b[0m\u001b[0;34m\u001b[0m\u001b[0m\n\u001b[1;32m    897\u001b[0m                 \u001b[0mself\u001b[0m\u001b[0;34m.\u001b[0m\u001b[0mlog\u001b[0m\u001b[0;34m.\u001b[0m\u001b[0mwarning\u001b[0m\u001b[0;34m(\u001b[0m\u001b[0;34m\"Invalid Message:\"\u001b[0m\u001b[0;34m,\u001b[0m \u001b[0mexc_info\u001b[0m\u001b[0;34m=\u001b[0m\u001b[0;32mTrue\u001b[0m\u001b[0;34m)\u001b[0m\u001b[0;34m\u001b[0m\u001b[0;34m\u001b[0m\u001b[0m\n",
            "\u001b[0;31mKeyboardInterrupt\u001b[0m: Interrupted by user"
          ]
        }
      ],
      "source": [
        "import random\n",
        "\n",
        "def jogo_acerte_o_numero():\n",
        "    # Gerando um número aleatório de 0 a 10\n",
        "    numero_secreto = random.randint(0, 10)\n",
        "\n",
        "    print(\"Bem-vindo ao jogo de Acerte o Número!\")\n",
        "    print(\"Tente adivinhar o número secreto de 0 a 10. Você tem 5 tentativas.\")\n",
        "\n",
        "    pontuacao_maxima = 100\n",
        "    pontuacao_minima = 10\n",
        "\n",
        "    # Loop para as tentativas\n",
        "    for tentativa in range(1, 6):\n",
        "        # Recebendo o palpite do usuário\n",
        "        while True:\n",
        "            try:\n",
        "                palpite = int(input(f\"Tentativa {tentativa}: Digite um número de 0 a 10: \"))\n",
        "                if palpite < 0 or palpite > 10:\n",
        "                    raise ValueError(\"Número fora da faixa permitida!\")\n",
        "                break\n",
        "            except ValueError as e:\n",
        "                print(e)\n",
        "\n",
        "        # Verificando se o palpite está correto\n",
        "        if palpite == numero_secreto:\n",
        "            if tentativa == 1:\n",
        "                pontuacao = pontuacao_maxima\n",
        "            elif tentativa == 5:\n",
        "                pontuacao = pontuacao_minima\n",
        "            else:\n",
        "                pontuacao = pontuacao_maxima - (tentativa - 1) * (pontuacao_maxima - pontuacao_minima) / 4\n",
        "\n",
        "            print(f\"Parabéns! Você acertou o número secreto na {tentativa}ª tentativa!\")\n",
        "            print(f\"Sua pontuação é: {pontuacao} pontos.\")\n",
        "            break\n",
        "        else:\n",
        "            if tentativa == 5:\n",
        "                print(\"Game Over! O número secreto era:\", numero_secreto)\n",
        "            else:\n",
        "                # Dando uma dica ao jogador\n",
        "                if palpite < numero_secreto:\n",
        "                    print(\"Tente um número maior.\")\n",
        "                else:\n",
        "                    print(\"Tente um número menor.\")\n",
        "\n",
        "def novo_jogo():\n",
        "    while True:\n",
        "        jogo_acerte_o_numero()\n",
        "        resposta = input(\"Deseja iniciar uma nova partida? (s/n): \").lower()\n",
        "        if resposta != 's':\n",
        "            print(\"Obrigado por jogar! Até mais!\")\n",
        "            break\n",
        "\n",
        "novo_jogo()"
      ]
    }
  ],
  "metadata": {
    "colab": {
      "provenance": [],
      "authorship_tag": "ABX9TyNd/3Z4i6+c93zjECvC7Zwv",
      "include_colab_link": true
    },
    "kernelspec": {
      "display_name": "Python 3",
      "name": "python3"
    },
    "language_info": {
      "name": "python"
    }
  },
  "nbformat": 4,
  "nbformat_minor": 0
}